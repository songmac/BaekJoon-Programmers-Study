{
 "cells": [
  {
   "cell_type": "code",
   "execution_count": null,
   "id": "d2985ed6",
   "metadata": {},
   "outputs": [],
   "source": [
    "my_strings = [\"progressive\", \"hamburger\", \"hammer\", \"ahocorasick\"]\n",
    "parts = [[0, 4], [1, 2], [3, 5], [7, 7]]\n",
    "\n",
    "def solution(my_strings, parts):\n",
    "    \n",
    "    result=''\n",
    "    for i in range(len(my_strings)):\n",
    "        s, e = parts[i]  # 리스트 인자 [x, y]를 각각 s, e에 할당연산자 통해 할당함\n",
    "        # print(s, e)  \n",
    "        # print(type(s), type(e)) # (int, int)\n",
    "        for j in range(s, e+1, 1):\n",
    "            result += my_strings[i][j]\n",
    "            \n",
    "    return result\n",
    "\n",
    "solution(my_strings, parts)"
   ]
  },
  {
   "cell_type": "code",
   "execution_count": null,
   "id": "078d43d6",
   "metadata": {},
   "outputs": [],
   "source": [
    "my_strings = [\"progressive\", \"hamburger\", \"hammer\", \"ahocorasick\"]\n",
    "parts = [[0, 4], [1, 2], [3, 5], [7, 7]]\n",
    "\n",
    "def solution(my_strings, parts):\n",
    "    answer = ''\n",
    "    for my_str, (s, e) in zip(my_strings, parts):\n",
    "        answer += my_str[s: e+1]\n",
    "    return answer\n",
    "\n",
    "solution(my_strings, parts)"
   ]
  },
  {
   "cell_type": "code",
   "execution_count": null,
   "id": "a18ea1d1",
   "metadata": {},
   "outputs": [],
   "source": [
    "my_strings = [\"progressive\", \"hamburger\", \"hammer\", \"ahocorasick\"]\n",
    "parts = [[0, 4], [1, 2], [3, 5], [7, 7]]\n",
    "\n",
    "def solution(my_strings, parts):\n",
    "    return ''.join([my_str[s:e+1] for my_str, (s, e) in zip(my_strings, parts)])\n",
    "\n",
    "solution(my_strings, parts)"
   ]
  }
 ],
 "metadata": {
  "language_info": {
   "name": "python"
  }
 },
 "nbformat": 4,
 "nbformat_minor": 5
}
