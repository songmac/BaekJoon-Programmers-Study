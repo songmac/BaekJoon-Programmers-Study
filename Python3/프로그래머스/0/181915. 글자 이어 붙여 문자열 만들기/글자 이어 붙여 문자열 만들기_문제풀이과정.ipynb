{
 "cells": [
  {
   "cell_type": "code",
   "execution_count": 1,
   "id": "296c37dc",
   "metadata": {},
   "outputs": [
    {
     "name": "stdout",
     "output_type": "stream",
     "text": [
      "{0: 'c', 1: 'v', 2: 's', 3: 'g', 4: 'i', 5: 'o', 6: 'r', 7: 's', 8: 'z', 9: 'z', 10: 'z', 11: 'm', 12: 'r', 13: 'p', 14: 'a', 15: 'q', 16: 'p', 17: 'e'}\n",
      "programmers\n"
     ]
    }
   ],
   "source": [
    "# 기본 딕셔너리 사용\n",
    "my_string = \"cvsgiorszzzmrpaqpe\"\n",
    "\n",
    "result = {}\n",
    "for idx, char in enumerate(my_string): \n",
    "    result[idx] = char\n",
    "print(result)\n",
    "\n",
    "index_list = [16, 6, 5, 3, 12, 14, 11, 11, 17, 12, 7]\n",
    "\n",
    "answer = ''\n",
    "for i in index_list:\n",
    "    answer += result[i]\n",
    "print(answer)"
   ]
  },
  {
   "cell_type": "code",
   "execution_count": 2,
   "id": "b30d2f0d",
   "metadata": {},
   "outputs": [
    {
     "name": "stdout",
     "output_type": "stream",
     "text": [
      "programmers\n"
     ]
    }
   ],
   "source": [
    "# 다른 사람의 풀이\n",
    "def solution(my_string, index_list):\n",
    "    return ''.join([my_string[idx] for idx in index_list])\n",
    "\n",
    "my_string = \"cvsgiorszzzmrpaqpe\"\n",
    "index_list = [16, 6, 5, 3, 12, 14, 11, 11, 17, 12, 7]\n",
    "print(solution(my_string, index_list))"
   ]
  },
  {
   "cell_type": "code",
   "execution_count": 3,
   "id": "3452a0ea",
   "metadata": {},
   "outputs": [],
   "source": [
    "# defaultdict() 사용\n",
    "from collections import defaultdict\n",
    "\n",
    "def solution(my_string, index_list):\n",
    "    result = defaultdict()\n",
    "    for idx, char in enumerate(my_string): \n",
    "        result[idx] = char\n",
    "        \n",
    "    answer = ''\n",
    "    for i in index_list:\n",
    "        answer += result[i]\n",
    "    \n",
    "    return answer"
   ]
  },
  {
   "cell_type": "code",
   "execution_count": null,
   "id": "497e2005",
   "metadata": {},
   "outputs": [],
   "source": []
  }
 ],
 "metadata": {
  "kernelspec": {
   "display_name": "anaconda_env",
   "language": "python",
   "name": "python3"
  },
  "language_info": {
   "codemirror_mode": {
    "name": "ipython",
    "version": 3
   },
   "file_extension": ".py",
   "mimetype": "text/x-python",
   "name": "python",
   "nbconvert_exporter": "python",
   "pygments_lexer": "ipython3",
   "version": "3.13.0"
  }
 },
 "nbformat": 4,
 "nbformat_minor": 5
}
