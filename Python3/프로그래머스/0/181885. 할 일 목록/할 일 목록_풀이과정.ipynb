{
 "cells": [
  {
   "cell_type": "code",
   "execution_count": 1,
   "id": "dad6955f",
   "metadata": {},
   "outputs": [],
   "source": [
    "todo_list = [\"problemsolving\", \"practiceguitar\", \"swim\", \"studygraph\"]\n",
    "finished = [True, False, True, False]"
   ]
  },
  {
   "cell_type": "code",
   "execution_count": 2,
   "id": "139a87ef",
   "metadata": {},
   "outputs": [
    {
     "data": {
      "text/plain": [
       "['practiceguitar', 'studygraph']"
      ]
     },
     "execution_count": 2,
     "metadata": {},
     "output_type": "execute_result"
    }
   ],
   "source": [
    "# 나의 풀이\n",
    "def solution(todo_list, finished):\n",
    "    result = []\n",
    "    for idx, val in enumerate(finished):\n",
    "        if val == False: # bool 자료형은 비교 연산 시, 대문자 True / False 로 입력해야 함\n",
    "            result.append(todo_list[idx])\n",
    "    return result\n",
    "\n",
    "solution(todo_list, finished)"
   ]
  },
  {
   "cell_type": "code",
   "execution_count": 3,
   "id": "38d670ab",
   "metadata": {},
   "outputs": [
    {
     "data": {
      "text/plain": [
       "['practiceguitar', 'studygraph']"
      ]
     },
     "execution_count": 3,
     "metadata": {},
     "output_type": "execute_result"
    }
   ],
   "source": [
    "# 간단한 풀이\n",
    "def solution(todo_list, finished):\n",
    "    return [todo_list[idx] for idx, val in enumerate(finished) if val == False]\n",
    "\n",
    "solution(todo_list, finished)"
   ]
  },
  {
   "cell_type": "code",
   "execution_count": null,
   "id": "92e69763",
   "metadata": {},
   "outputs": [],
   "source": []
  }
 ],
 "metadata": {
  "kernelspec": {
   "display_name": "anaconda_env",
   "language": "python",
   "name": "python3"
  },
  "language_info": {
   "codemirror_mode": {
    "name": "ipython",
    "version": 3
   },
   "file_extension": ".py",
   "mimetype": "text/x-python",
   "name": "python",
   "nbconvert_exporter": "python",
   "pygments_lexer": "ipython3",
   "version": "3.13.0"
  }
 },
 "nbformat": 4,
 "nbformat_minor": 5
}
