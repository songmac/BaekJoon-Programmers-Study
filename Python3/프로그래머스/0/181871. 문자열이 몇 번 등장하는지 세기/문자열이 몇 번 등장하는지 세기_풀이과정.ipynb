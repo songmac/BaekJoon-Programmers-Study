{
 "cells": [
  {
   "cell_type": "code",
   "execution_count": null,
   "id": "d383846d",
   "metadata": {},
   "outputs": [
    {
     "name": "stdout",
     "output_type": "stream",
     "text": [
      "anana\n",
      "nana\n"
     ]
    },
    {
     "data": {
      "text/plain": [
       "2"
      ]
     },
     "execution_count": 54,
     "metadata": {},
     "output_type": "execute_result"
    }
   ],
   "source": [
    "# 틀린 풀이\n",
    "\n",
    "# 적용 X\n",
    "myString = \"banana\"\n",
    "pat = \"ana\"\n",
    "\n",
    "# 적용 O\n",
    "myString = \"aaaa\"\n",
    "pat = \"aa\"\n",
    "\n",
    "def solution(myString, pat):\n",
    "    new_lst = []\n",
    "    for i in range(len(myString)):\n",
    "        myString = myString[myString.find(pat)+i:]  # 리스트에 nana가 저장 됨\n",
    "        if myString.find(pat) == -1:\n",
    "            break\n",
    "        new_lst.append(myString)\n",
    "        print(myString)\n",
    "    return len(new_lst)\n",
    "\n",
    "solution(myString, pat)"
   ]
  },
  {
   "cell_type": "code",
   "execution_count": null,
   "id": "a935be16",
   "metadata": {},
   "outputs": [
    {
     "name": "stdout",
     "output_type": "stream",
     "text": [
      "aaa\n",
      "['aaa']\n",
      "aa\n",
      "['aaa', 'aa']\n",
      "a\n",
      "['aaa', 'aa', 'a']\n"
     ]
    },
    {
     "data": {
      "text/plain": [
       "3"
      ]
     },
     "execution_count": 57,
     "metadata": {},
     "output_type": "execute_result"
    }
   ],
   "source": [
    "# 정답 풀이\n",
    "\n",
    "# 적용 O \n",
    "myString = \"banana\"\n",
    "pat = \"ana\"\n",
    "\n",
    "# 적용 O\n",
    "myString = \"aaaa\"\n",
    "pat = \"aa\"\n",
    "\n",
    "def solution(myString, pat):\n",
    "    new_lst = []\n",
    "    while True:\n",
    "        if myString.find(pat) == -1:\n",
    "            break\n",
    "        myString = myString[myString.find(pat)+1:] # 찾은 인덱스의 다음 문자부터 저장하는 것이 키 포인트!\n",
    "        new_lst.append(myString)\n",
    "        print(myString)\n",
    "        print(new_lst)\n",
    "\n",
    "    return len(new_lst)\n",
    "\n",
    "solution(myString, pat)"
   ]
  }
 ],
 "metadata": {
  "kernelspec": {
   "display_name": "anaconda_env",
   "language": "python",
   "name": "python3"
  },
  "language_info": {
   "codemirror_mode": {
    "name": "ipython",
    "version": 3
   },
   "file_extension": ".py",
   "mimetype": "text/x-python",
   "name": "python",
   "nbconvert_exporter": "python",
   "pygments_lexer": "ipython3",
   "version": "3.13.0"
  }
 },
 "nbformat": 4,
 "nbformat_minor": 5
}
