{
 "cells": [
  {
   "cell_type": "markdown",
   "id": "f6e40d1c",
   "metadata": {},
   "source": [
    "### 181851. 전국 대회 선발고사"
   ]
  },
  {
   "cell_type": "code",
   "execution_count": 4,
   "id": "d52f4e8d",
   "metadata": {},
   "outputs": [
    {
     "name": "stdout",
     "output_type": "stream",
     "text": [
      "{7: 1, 2: 2, 5: 3, 4: 4}\n",
      "dict_items([(7, 1), (2, 2), (5, 3), (4, 4)])\n"
     ]
    },
    {
     "data": {
      "text/plain": [
       "20403"
      ]
     },
     "execution_count": 4,
     "metadata": {},
     "output_type": "execute_result"
    }
   ],
   "source": [
    "rank = [3, 7, 2, 5, 4, 6, 1]\n",
    "attendance = [False, True, True, True, True, False, False]\n",
    "\n",
    "def solution(rank, attendance):\n",
    "    zip_val = []\n",
    "    zip_idx = []\n",
    "    result = {}\n",
    "    \n",
    "    for idx, val in enumerate(rank): # idx: 참가번호, val: 등수\n",
    "        if attendance[idx]:\n",
    "            zip_val.append(val)\n",
    "            zip_idx.append(idx)\n",
    "\n",
    "    result = dict(zip(zip_val, zip_idx))\n",
    "    print(result) # {7: 1, 2: 2, 5: 3, 4: 4}\n",
    "    print(result.items()) # dict_items([(7, 1), (2, 2), (5, 3), (4, 4)])\n",
    "    # result = result.sort() # X -> sort()는 리스트에서만 사용 가능\n",
    "    result = sorted(result.items()) # (등수, 참가번호) 기준으로 정렬\n",
    "    result = result[:3]\n",
    "\n",
    "    return 10000 * result[0][1] + 100 * result[1][1] + result[2][1]\n",
    "\n",
    "solution(rank, attendance)"
   ]
  },
  {
   "cell_type": "code",
   "execution_count": null,
   "id": "ea88a0e6",
   "metadata": {},
   "outputs": [],
   "source": [
    "# 다른 사람의 풀이 1\n",
    "\n",
    "def solution(rank, attendance):\n",
    "    lst = []\n",
    "\n",
    "    for i in range(len(rank)):\n",
    "        if attendance[i]:\n",
    "            lst.append((rank[i],i))\n",
    "\n",
    "    lst.sort()\n",
    "\n",
    "    return 10000*lst[0][1]+100*lst[1][1]+lst[2][1]"
   ]
  },
  {
   "cell_type": "code",
   "execution_count": null,
   "id": "ffac643b",
   "metadata": {},
   "outputs": [],
   "source": [
    "# 다른 사람의 풀이 2\n",
    "\n",
    "def solution(rank, attendance):\n",
    "    arr = sorted([(x, i) for i, x in enumerate(rank) if attendance[i]])\n",
    "    return arr[0][1] * 10000 + arr[1][1] * 100 + arr[2][1]"
   ]
  }
 ],
 "metadata": {
  "kernelspec": {
   "display_name": "anaconda_env",
   "language": "python",
   "name": "python3"
  },
  "language_info": {
   "codemirror_mode": {
    "name": "ipython",
    "version": 3
   },
   "file_extension": ".py",
   "mimetype": "text/x-python",
   "name": "python",
   "nbconvert_exporter": "python",
   "pygments_lexer": "ipython3",
   "version": "3.13.0"
  }
 },
 "nbformat": 4,
 "nbformat_minor": 5
}
