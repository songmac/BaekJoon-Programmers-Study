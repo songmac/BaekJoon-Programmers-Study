{
 "cells": [
  {
   "cell_type": "code",
   "execution_count": 2,
   "id": "349abdc9",
   "metadata": {},
   "outputs": [
    {
     "data": {
      "text/plain": [
       "'programmers'"
      ]
     },
     "execution_count": 2,
     "metadata": {},
     "output_type": "execute_result"
    }
   ],
   "source": [
    "my_string = \"apporoograpemmemprs\"\n",
    "indices = [1, 16, 6, 15, 0, 10, 11, 3]\n",
    "\n",
    "def solution(my_string, indices):\n",
    "    result = ''\n",
    "    for i, char in enumerate(my_string):\n",
    "        if i not in indices:\n",
    "            result += char\n",
    "    return result\n",
    "    \n",
    "solution(my_string, indices)"
   ]
  }
 ],
 "metadata": {
  "kernelspec": {
   "display_name": "anaconda_env",
   "language": "python",
   "name": "python3"
  },
  "language_info": {
   "codemirror_mode": {
    "name": "ipython",
    "version": 3
   },
   "file_extension": ".py",
   "mimetype": "text/x-python",
   "name": "python",
   "nbconvert_exporter": "python",
   "pygments_lexer": "ipython3",
   "version": "3.13.0"
  }
 },
 "nbformat": 4,
 "nbformat_minor": 5
}
