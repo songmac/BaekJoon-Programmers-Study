{
 "cells": [
  {
   "cell_type": "markdown",
   "id": "e8153375",
   "metadata": {},
   "source": [
    "### 181878. 원하는 문자열 찾기"
   ]
  },
  {
   "cell_type": "code",
   "execution_count": null,
   "id": "8659c55a",
   "metadata": {},
   "outputs": [
    {
     "name": "stdout",
     "output_type": "stream",
     "text": [
      "AbCdEfG\n",
      "aBc\n"
     ]
    },
    {
     "data": {
      "text/plain": [
       "1"
      ]
     },
     "execution_count": 4,
     "metadata": {},
     "output_type": "execute_result"
    }
   ],
   "source": [
    "# 실패한 코드\n",
    "\n",
    "myString = \"AbCdEfG\"\n",
    "pat = \"aBc\"\n",
    "\n",
    "def solution(myString, pat):\n",
    "    if len(myString) < len(pat):\n",
    "        return 0\n",
    "    else :\n",
    "        if myString.find(pat):  \n",
    "                # find(찾고자 하는 부분 문자열, 검색을 시작할 인덱스(기본값 0), 검색을 종료할 인덱스(기본값 문자열 끝))\n",
    "                # 반환값 : 찾으면? 처음 등장하는 인덱스를 반환, 못 찾으면? -1 반환\n",
    "                # 파이썬에서는 -1도 참으로 평가 되기 때문에 잘못된 결과로 1을 반환\n",
    "            print(myString)  # AbCdEfG\n",
    "            print(pat)  # aBc\n",
    "            return 1\n",
    "        \n",
    "solution(myString, pat)"
   ]
  },
  {
   "cell_type": "code",
   "execution_count": null,
   "id": "9bc7c8e3",
   "metadata": {},
   "outputs": [
    {
     "name": "stdout",
     "output_type": "stream",
     "text": [
      "abcdefg\n",
      "abc\n"
     ]
    },
    {
     "data": {
      "text/plain": [
       "1"
      ]
     },
     "execution_count": 8,
     "metadata": {},
     "output_type": "execute_result"
    }
   ],
   "source": [
    "# 나의 첫번째 풀이\n",
    "\n",
    "myString = \"AbCdEfG\"\n",
    "pat = \"aBc\"\n",
    "\n",
    "def solution(myString, pat):\n",
    "    if len(myString) < len(pat):\n",
    "        return 0\n",
    "    else :\n",
    "        if pat.lower() in myString.lower():  \n",
    "            # print(myString.lower())  # abcdefg\n",
    "            # print(pat.lower())  # abc\n",
    "            return 1\n",
    "        else : \n",
    "            return 0\n",
    "        \n",
    "solution(myString, pat)"
   ]
  },
  {
   "cell_type": "code",
   "execution_count": null,
   "id": "cce40d2d",
   "metadata": {},
   "outputs": [
    {
     "data": {
      "text/plain": [
       "1"
      ]
     },
     "execution_count": 12,
     "metadata": {},
     "output_type": "execute_result"
    }
   ],
   "source": [
    "# 나의 두번째 풀이\n",
    "\n",
    "myString = \"AbCdEfG\"\n",
    "pat = \"aBc\"\n",
    "\n",
    "def solution(myString, pat): \n",
    "    return int(pat.lower() in myString.lower()) # bool 결과를 int로 바꾸어 처리\n",
    "        \n",
    "solution(myString, pat)"
   ]
  }
 ],
 "metadata": {
  "kernelspec": {
   "display_name": "anaconda_env",
   "language": "python",
   "name": "python3"
  },
  "language_info": {
   "codemirror_mode": {
    "name": "ipython",
    "version": 3
   },
   "file_extension": ".py",
   "mimetype": "text/x-python",
   "name": "python",
   "nbconvert_exporter": "python",
   "pygments_lexer": "ipython3",
   "version": "3.13.0"
  }
 },
 "nbformat": 4,
 "nbformat_minor": 5
}
