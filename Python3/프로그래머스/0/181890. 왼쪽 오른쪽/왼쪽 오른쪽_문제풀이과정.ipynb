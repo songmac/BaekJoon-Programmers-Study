{
 "cells": [
  {
   "cell_type": "code",
   "execution_count": 12,
   "id": "406caf51",
   "metadata": {},
   "outputs": [],
   "source": [
    "str_list = [\"u\", \"u\", \"l\", \"r\"]\n",
    "\n",
    "# idx =      0    1    2    3"
   ]
  },
  {
   "cell_type": "code",
   "execution_count": 15,
   "id": "d8c80036",
   "metadata": {},
   "outputs": [],
   "source": [
    "str_list = [\"l\"]"
   ]
  },
  {
   "cell_type": "code",
   "execution_count": 16,
   "id": "edd56ce9",
   "metadata": {},
   "outputs": [
    {
     "data": {
      "text/plain": [
       "[]"
      ]
     },
     "execution_count": 16,
     "metadata": {},
     "output_type": "execute_result"
    }
   ],
   "source": [
    "# 내가 푼 풀이\n",
    "\n",
    "def solution(str_list):\n",
    "    for i in range(len(str_list)):\n",
    "        if str_list[i] == 'l':\n",
    "            return str_list[:i]\n",
    "        elif str_list[i] == 'r':\n",
    "            return str_list[i+1:]\n",
    "    return []\n",
    "\n",
    "solution(str_list)"
   ]
  },
  {
   "cell_type": "code",
   "execution_count": null,
   "id": "1e1ecccd",
   "metadata": {},
   "outputs": [],
   "source": []
  }
 ],
 "metadata": {
  "kernelspec": {
   "display_name": "anaconda_env",
   "language": "python",
   "name": "python3"
  },
  "language_info": {
   "codemirror_mode": {
    "name": "ipython",
    "version": 3
   },
   "file_extension": ".py",
   "mimetype": "text/x-python",
   "name": "python",
   "nbconvert_exporter": "python",
   "pygments_lexer": "ipython3",
   "version": "3.13.0"
  }
 },
 "nbformat": 4,
 "nbformat_minor": 5
}
