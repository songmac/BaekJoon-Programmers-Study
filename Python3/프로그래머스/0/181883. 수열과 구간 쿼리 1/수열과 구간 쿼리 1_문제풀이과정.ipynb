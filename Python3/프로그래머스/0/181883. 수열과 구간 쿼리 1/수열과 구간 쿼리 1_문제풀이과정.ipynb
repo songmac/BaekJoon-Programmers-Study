{
 "cells": [
  {
   "cell_type": "code",
   "execution_count": 107,
   "id": "c82c0428",
   "metadata": {},
   "outputs": [],
   "source": [
    "arr\t= [0, 1, 2, 3, 4]\n",
    "queries\t= [[0, 1],[1, 2],[2, 3]]"
   ]
  },
  {
   "cell_type": "code",
   "execution_count": null,
   "id": "3793c259",
   "metadata": {},
   "outputs": [
    {
     "data": {
      "text/plain": [
       "\"\\ndef solution(arr, queries):\\n    for i, j in queries:\\n        arr[i:j+1] += 1  # TypeError: 'int' object is not iterable \\n                         # 슬라이스된 리스트에 더하는 것은 파이썬에서 지원되지 않는 방식 \\n    return arr\\nsolution(arr, queries)\\n\""
      ]
     },
     "execution_count": 109,
     "metadata": {},
     "output_type": "execute_result"
    }
   ],
   "source": [
    "# 내가 기존에 풀려고 했던 방식\n",
    "def solution(arr, queries):\n",
    "    for i, j in queries:\n",
    "        arr[i:j+1] += 1  # TypeError: 'int' object is not iterable \n",
    "                         # 슬라이스된 리스트에 더하는 것은 파이썬에서 지원되지 않는 방식 \n",
    "    return arr\n",
    "solution(arr, queries)"
   ]
  },
  {
   "cell_type": "code",
   "execution_count": 95,
   "id": "e615dfbf",
   "metadata": {},
   "outputs": [
    {
     "data": {
      "text/plain": [
       "[1, 3, 4, 4, 4]"
      ]
     },
     "execution_count": 95,
     "metadata": {},
     "output_type": "execute_result"
    }
   ],
   "source": [
    "# 인덱스로 직접 수정\n",
    "def solution(arr, queries):\n",
    "    for i, j in queries:\n",
    "        for k in range(i, j+1):\n",
    "            arr[k] += 1  \n",
    "    return arr\n",
    "\n",
    "solution(arr, queries)"
   ]
  },
  {
   "cell_type": "code",
   "execution_count": null,
   "id": "634a82be",
   "metadata": {},
   "outputs": [
    {
     "data": {
      "text/plain": [
       "[1, 3, 4, 4, 4]"
      ]
     },
     "execution_count": 103,
     "metadata": {},
     "output_type": "execute_result"
    }
   ],
   "source": [
    "# 리스트 컴프리헨션으로 수정\n",
    "def solution(arr, queries):\n",
    "    for i, j in queries:\n",
    "        arr[i: j+1] = [x+1 for x in arr[i: j+1]]\n",
    "    return arr\n",
    "\n",
    "solution(arr, queries)"
   ]
  },
  {
   "cell_type": "code",
   "execution_count": 108,
   "id": "b7695345",
   "metadata": {},
   "outputs": [
    {
     "data": {
      "text/plain": [
       "[1, 3, 4, 4, 4]"
      ]
     },
     "execution_count": 108,
     "metadata": {},
     "output_type": "execute_result"
    }
   ],
   "source": [
    "# map 함수 이용\n",
    "def solution(arr, queries):\n",
    "    for i, j in queries:\n",
    "        arr[i: j+1] = list(map(lambda x : x+1, arr[i: j+1]))\n",
    "    return arr\n",
    "    \n",
    "solution(arr, queries)"
   ]
  }
 ],
 "metadata": {
  "kernelspec": {
   "display_name": "anaconda_env",
   "language": "python",
   "name": "python3"
  },
  "language_info": {
   "codemirror_mode": {
    "name": "ipython",
    "version": 3
   },
   "file_extension": ".py",
   "mimetype": "text/x-python",
   "name": "python",
   "nbconvert_exporter": "python",
   "pygments_lexer": "ipython3",
   "version": "3.13.0"
  }
 },
 "nbformat": 4,
 "nbformat_minor": 5
}
