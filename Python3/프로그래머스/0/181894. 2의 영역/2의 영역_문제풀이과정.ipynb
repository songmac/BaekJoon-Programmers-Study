{
 "cells": [
  {
   "cell_type": "code",
   "execution_count": null,
   "id": "50aa7c39",
   "metadata": {},
   "outputs": [],
   "source": [
    "# example 1\n",
    "arr = [1, 2, 1, 4, 5, 2, 9]"
   ]
  },
  {
   "cell_type": "code",
   "execution_count": 77,
   "id": "0892b1e5",
   "metadata": {},
   "outputs": [],
   "source": [
    "# example 2\n",
    "arr = [1, 2, 1]"
   ]
  },
  {
   "cell_type": "code",
   "execution_count": 26,
   "id": "8d3499a1",
   "metadata": {},
   "outputs": [],
   "source": [
    "# example 3\n",
    "arr = [1, 1, 1] # 에러 : answer 에 아무것도 안담길 경우, IndexError : list index out of range 에러가 나옴 \n",
    "                # 해결 : answer로 인덱스 슬라이싱(최종 결과 출력)하기 전에 이 조건을 먼저 검사해줘야 함"
   ]
  },
  {
   "cell_type": "code",
   "execution_count": 24,
   "id": "9c503b48",
   "metadata": {},
   "outputs": [],
   "source": [
    "# example 4\n",
    "arr = [1, 2, 1, 2, 1, 10, 2, 1]\t"
   ]
  },
  {
   "cell_type": "code",
   "execution_count": 27,
   "id": "74ef4ff6",
   "metadata": {},
   "outputs": [
    {
     "data": {
      "text/plain": [
       "[-1]"
      ]
     },
     "execution_count": 27,
     "metadata": {},
     "output_type": "execute_result"
    }
   ],
   "source": [
    "# 완성한 코드\n",
    "def solution(arr):\n",
    "    answer = []\n",
    "    for idx, val in enumerate(arr):\n",
    "        if (val // 2 == 1) and (val % 2 == 0):\n",
    "            answer.append(idx)\n",
    "    if len(answer) == 0:\n",
    "        return [-1]\n",
    "    return arr[answer[0]:answer[-1]+1]\n",
    "\n",
    "solution(arr)"
   ]
  },
  {
   "cell_type": "code",
   "execution_count": null,
   "id": "79a4cbe1",
   "metadata": {},
   "outputs": [
    {
     "data": {
      "text/plain": [
       "[2, 1, 4, 5, 2]"
      ]
     },
     "execution_count": 13,
     "metadata": {},
     "output_type": "execute_result"
    }
   ],
   "source": [
    "# 간단히 정리한 코드\n",
    "\n",
    "def solution(arr):\n",
    "    answer = [idx for idx, val in enumerate(arr) if val // 2 == 1 and val % 2 == 0]\n",
    "    if len(answer) == 0:\n",
    "        return [-1]\n",
    "    return arr[answer[0]:answer[-1]+1]\n",
    "\n",
    "solution(arr)"
   ]
  },
  {
   "cell_type": "code",
   "execution_count": null,
   "id": "2e82a5a0",
   "metadata": {},
   "outputs": [
    {
     "data": {
      "text/plain": [
       "[2, 1, 2, 1, 10, 2]"
      ]
     },
     "execution_count": 23,
     "metadata": {},
     "output_type": "execute_result"
    }
   ],
   "source": [
    "# 간단히 정리한 코드 2\n",
    " \n",
    "def solution(arr):\n",
    "    answer = [idx for idx, val in enumerate(arr) if val // 2 == 1 and val % 2 == 0]\n",
    "    return [-1] if len(answer) == 0 else arr[answer[0]:answer[-1]+1] \n",
    "\n",
    "solution(arr)"
   ]
  },
  {
   "cell_type": "code",
   "execution_count": null,
   "id": "f9432cb6",
   "metadata": {},
   "outputs": [],
   "source": []
  }
 ],
 "metadata": {
  "kernelspec": {
   "display_name": "anaconda_env",
   "language": "python",
   "name": "python3"
  },
  "language_info": {
   "codemirror_mode": {
    "name": "ipython",
    "version": 3
   },
   "file_extension": ".py",
   "mimetype": "text/x-python",
   "name": "python",
   "nbconvert_exporter": "python",
   "pygments_lexer": "ipython3",
   "version": "3.13.0"
  }
 },
 "nbformat": 4,
 "nbformat_minor": 5
}
