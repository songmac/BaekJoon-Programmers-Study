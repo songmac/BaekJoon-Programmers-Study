{
 "cells": [
  {
   "cell_type": "markdown",
   "id": "87905017",
   "metadata": {},
   "source": [
    "### 181880. 1로 만들기"
   ]
  },
  {
   "cell_type": "code",
   "execution_count": null,
   "id": "c8bbcaba",
   "metadata": {},
   "outputs": [
    {
     "name": "stdout",
     "output_type": "stream",
     "text": [
      "[6, 4, 15, 1, 14]\n",
      "[6, 2, 15, 1, 14]\n",
      "[6, 2, 7, 1, 14]\n",
      "[6, 2, 7, 1, 7]\n",
      "[3, 2, 7, 1, 7]\n",
      "[3, 1, 7, 1, 7]\n",
      "[3, 1, 3, 1, 7]\n",
      "[3, 1, 3, 1, 3]\n",
      "[1, 1, 3, 1, 3]\n",
      "[1, 1, 1, 1, 3]\n",
      "[1, 1, 1, 1, 1]\n"
     ]
    },
    {
     "data": {
      "text/plain": [
       "11"
      ]
     },
     "execution_count": 8,
     "metadata": {},
     "output_type": "execute_result"
    }
   ],
   "source": [
    "num_list = [12, 4, 15, 1, 14]\n",
    "\n",
    "def solution(num_list):\n",
    "    cnt = 0\n",
    "    while True:\n",
    "        for idx, val in enumerate(num_list):\n",
    "            if (val % 2 == 0):\n",
    "                num_list[idx] = int(val / 2)\n",
    "            elif val % 2 == 1:\n",
    "                if val != 1:\n",
    "                    num_list[idx] = int((val - 1) / 2)\n",
    "                else : \n",
    "                    continue\n",
    "            cnt += 1\n",
    "            # print(num_list)\n",
    "        if sum(num_list) == len(num_list):\n",
    "            break\n",
    "    return cnt\n",
    "\n",
    "solution(num_list)"
   ]
  }
 ],
 "metadata": {
  "kernelspec": {
   "display_name": "anaconda_env",
   "language": "python",
   "name": "python3"
  },
  "language_info": {
   "codemirror_mode": {
    "name": "ipython",
    "version": 3
   },
   "file_extension": ".py",
   "mimetype": "text/x-python",
   "name": "python",
   "nbconvert_exporter": "python",
   "pygments_lexer": "ipython3",
   "version": "3.13.0"
  }
 },
 "nbformat": 4,
 "nbformat_minor": 5
}
