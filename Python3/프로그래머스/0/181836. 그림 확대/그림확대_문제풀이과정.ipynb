{
 "cells": [
  {
   "cell_type": "markdown",
   "id": "68a32834",
   "metadata": {},
   "source": [
    "### 181836. 그림확대"
   ]
  },
  {
   "cell_type": "code",
   "execution_count": 59,
   "id": "fb28fab2",
   "metadata": {},
   "outputs": [
    {
     "data": {
      "text/plain": [
       "['xxx...xxx',\n",
       " 'xxx...xxx',\n",
       " 'xxx...xxx',\n",
       " '...xxx...',\n",
       " '...xxx...',\n",
       " '...xxx...',\n",
       " 'xxx...xxx',\n",
       " 'xxx...xxx',\n",
       " 'xxx...xxx']"
      ]
     },
     "execution_count": 59,
     "metadata": {},
     "output_type": "execute_result"
    }
   ],
   "source": [
    "# picture = [\".xx...xx.\", \"x..x.x..x\", \"x...x...x\", \".x.....x.\", \"..x...x..\", \"...x.x...\", \"....x....\"]\n",
    "# k = 2\t\n",
    "\n",
    "picture = [\"x.x\", \".x.\", \"x.x\"]\n",
    "k = 3\n",
    "\n",
    "def solution(picture, k):\n",
    "    result = []\n",
    "    for i in range(len(picture)):\n",
    "        line = \"\"\n",
    "        for j in range(len(picture[i])):\n",
    "            seg = \"\".join(picture[i][j]*k)\n",
    "            line += seg\n",
    "        # print(line) # xxx...xxx\n",
    "\n",
    "        for _ in range(k):\n",
    "            result.append(line)\n",
    "        # print(result) # ['xxx...xxx', 'xxx...xxx', 'xxx...xxx']\n",
    "\n",
    "    return result # ['xxx...xxx', 'xxx...xxx', 'xxx...xxx', '...xxx...', '...xxx...', '...xxx...', 'xxx...xxx', 'xxx...xxx', 'xxx...xxx']\n",
    "\n",
    "solution(picture, k)"
   ]
  },
  {
   "cell_type": "code",
   "execution_count": null,
   "id": "6d71c82a",
   "metadata": {},
   "outputs": [],
   "source": []
  }
 ],
 "metadata": {
  "kernelspec": {
   "display_name": "3.11.9",
   "language": "python",
   "name": "python3"
  },
  "language_info": {
   "codemirror_mode": {
    "name": "ipython",
    "version": 3
   },
   "file_extension": ".py",
   "mimetype": "text/x-python",
   "name": "python",
   "nbconvert_exporter": "python",
   "pygments_lexer": "ipython3",
   "version": "3.11.9"
  }
 },
 "nbformat": 4,
 "nbformat_minor": 5
}
