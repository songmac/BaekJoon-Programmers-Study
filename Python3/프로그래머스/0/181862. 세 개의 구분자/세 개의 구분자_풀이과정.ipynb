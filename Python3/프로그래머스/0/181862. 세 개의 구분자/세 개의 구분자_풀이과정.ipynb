{
 "cells": [
  {
   "cell_type": "code",
   "execution_count": null,
   "id": "7f23f18d",
   "metadata": {},
   "outputs": [],
   "source": [
    "# 일반 for문 사용\n",
    "\n",
    "myStr = \"baconlettucetomato\"\n",
    "# myStr = \"abcd\"\n",
    "# myStr = \"cabab\"\n",
    "\n",
    "def solution(myStr):\n",
    "    for cha in \"abc\":  # a, b, c가 차례로 들어감\n",
    "        myStr = myStr.replace(cha, \" \")\n",
    "    return myStr.split() if myStr.strip() else [\"EMPTY\"]\n",
    "\n",
    "solution(myStr)"
   ]
  },
  {
   "cell_type": "code",
   "execution_count": null,
   "id": "e5728718",
   "metadata": {},
   "outputs": [],
   "source": [
    "# 정규표현식 사용\n",
    "\n",
    "import re\n",
    "\n",
    "myStr = \"baconlettucetomato\"\n",
    "# myStr = \"abcd\"\n",
    "# myStr = \"cabab\"\n",
    "\n",
    "def solution(myStr):\n",
    "    parts = re.split(\"[abc]\", myStr)\n",
    "    print(parts)  \n",
    "    filtered = [p for p in parts if p] # 빈 문자열 제거 # if p: 는 p가 비어있지 않으면\n",
    "    \"\"\"\n",
    "    # False로 평가되는 값:\n",
    "    0 (정수 0)\n",
    "    '' (빈 문자열)\n",
    "    [] (빈 리스트)\n",
    "    None\n",
    "    False 자체\n",
    "    \"\"\"\n",
    "    return filtered if filtered else [\"EMPTY\"]\n",
    "\n",
    "solution(myStr)"
   ]
  }
 ],
 "metadata": {
  "kernelspec": {
   "display_name": "anaconda_env",
   "language": "python",
   "name": "python3"
  },
  "language_info": {
   "codemirror_mode": {
    "name": "ipython",
    "version": 3
   },
   "file_extension": ".py",
   "mimetype": "text/x-python",
   "name": "python",
   "nbconvert_exporter": "python",
   "pygments_lexer": "ipython3",
   "version": "3.13.0"
  }
 },
 "nbformat": 4,
 "nbformat_minor": 5
}
