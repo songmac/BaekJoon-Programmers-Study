{
 "cells": [
  {
   "cell_type": "code",
   "execution_count": 1,
   "id": "e7360b41",
   "metadata": {},
   "outputs": [
    {
     "data": {
      "text/plain": [
       "[56789, 99999]"
      ]
     },
     "execution_count": 1,
     "metadata": {},
     "output_type": "execute_result"
    }
   ],
   "source": [
    "intStrs = [\"0123456789\",\"9876543210\",\"9999999999999\"]\t\n",
    "\n",
    "k, s, l = 50000, 5, 5\n",
    "\n",
    "def solution(intStrs, k, s, l):\n",
    "\n",
    "    answer = []\n",
    "    for int_strs in intStrs:\n",
    "        # print(int_strs[s:s+l])\n",
    "        if int(int_strs[s:s+l]) > k:\n",
    "            answer.append(int(int_strs[s:s+l]))\n",
    "    return answer\n",
    "    \n",
    "\n",
    "solution(intStrs, k, s, l)"
   ]
  },
  {
   "cell_type": "code",
   "execution_count": 2,
   "id": "ae352d71",
   "metadata": {},
   "outputs": [
    {
     "data": {
      "text/plain": [
       "[56789, 99999]"
      ]
     },
     "execution_count": 2,
     "metadata": {},
     "output_type": "execute_result"
    }
   ],
   "source": [
    "intStrs = [\"0123456789\",\"9876543210\",\"9999999999999\"]\t\n",
    "\n",
    "k, s, l = 50000, 5, 5\n",
    "\n",
    "def solution(intStrs, k, s, l):\n",
    "    return [int(int_strs[s:s+l]) for int_strs in intStrs if int(int_strs[s:s+l]) > k]\n",
    "\n",
    "solution(intStrs, k, s, l)"
   ]
  }
 ],
 "metadata": {
  "kernelspec": {
   "display_name": "anaconda_env",
   "language": "python",
   "name": "python3"
  },
  "language_info": {
   "codemirror_mode": {
    "name": "ipython",
    "version": 3
   },
   "file_extension": ".py",
   "mimetype": "text/x-python",
   "name": "python",
   "nbconvert_exporter": "python",
   "pygments_lexer": "ipython3",
   "version": "3.13.0"
  }
 },
 "nbformat": 4,
 "nbformat_minor": 5
}
