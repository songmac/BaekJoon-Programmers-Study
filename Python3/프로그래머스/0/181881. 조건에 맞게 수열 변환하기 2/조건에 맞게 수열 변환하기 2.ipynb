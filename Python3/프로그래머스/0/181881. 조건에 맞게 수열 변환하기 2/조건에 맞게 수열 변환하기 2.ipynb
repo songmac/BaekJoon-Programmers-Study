{
 "cells": [
  {
   "cell_type": "code",
   "execution_count": null,
   "id": "fd6c903c",
   "metadata": {},
   "outputs": [
    {
     "name": "stdout",
     "output_type": "stream",
     "text": [
      "[3, 2, 7, 50.0, 99, 49.0]\n",
      "[7, 2, 15, 25.0, 99, 99.0]\n",
      "[15, 2, 31, 51.0, 99, 99.0]\n",
      "[31, 2, 63, 51.0, 99, 99.0]\n",
      "[63, 2, 63, 51.0, 99, 99.0]\n",
      "[63, 2, 63, 51.0, 99, 99.0]\n"
     ]
    },
    {
     "data": {
      "text/plain": [
       "5"
      ]
     },
     "execution_count": 7,
     "metadata": {},
     "output_type": "execute_result"
    }
   ],
   "source": [
    "# 내가 푼 풀이\n",
    "arr\t= [1, 2, 3, 100, 99, 98]\n",
    "\n",
    "def solution(arr):\n",
    "    arr1 = arr \n",
    "    count = 0\n",
    "    while True:\n",
    "        arr2 = [i / 2 if i >= 50 and i % 2 == 0 else i * 2 + 1 if i < 50 and i % 2 == 1 else i for i in arr1]\n",
    "        print(arr2)\n",
    "        if arr1 == arr2:\n",
    "            break\n",
    "        arr1 = arr2\n",
    "        arr2 = []\n",
    "        count += 1\n",
    "    return count\n",
    "\n",
    "solution(arr)"
   ]
  },
  {
   "cell_type": "code",
   "execution_count": null,
   "id": "1e04e420",
   "metadata": {},
   "outputs": [
    {
     "name": "stdout",
     "output_type": "stream",
     "text": [
      "[3, 2, 7, 50.0, 99, 49.0]\n",
      "[7, 2, 15, 25.0, 99, 99.0]\n",
      "[15, 2, 31, 51.0, 99, 99.0]\n",
      "[31, 2, 63, 51.0, 99, 99.0]\n",
      "[63, 2, 63, 51.0, 99, 99.0]\n",
      "[63, 2, 63, 51.0, 99, 99.0]\n"
     ]
    },
    {
     "data": {
      "text/plain": [
       "5"
      ]
     },
     "execution_count": 8,
     "metadata": {},
     "output_type": "execute_result"
    }
   ],
   "source": [
    "# 조금 더 간단한 풀이\n",
    "arr\t= [1, 2, 3, 100, 99, 98]\n",
    "\n",
    "def solution(arr):\n",
    "    count = 0\n",
    "    while True:\n",
    "        next_arr = [i / 2 if i >= 50 and i % 2 == 0 else i * 2 + 1 if i < 50 and i % 2 == 1 else i for i in arr]\n",
    "        if arr == next_arr:\n",
    "            break\n",
    "        arr = next_arr\n",
    "        next_arr = []\n",
    "        count += 1\n",
    "    return count\n",
    "\n",
    "solution(arr)"
   ]
  }
 ],
 "metadata": {
  "kernelspec": {
   "display_name": "anaconda_env",
   "language": "python",
   "name": "python3"
  },
  "language_info": {
   "codemirror_mode": {
    "name": "ipython",
    "version": 3
   },
   "file_extension": ".py",
   "mimetype": "text/x-python",
   "name": "python",
   "nbconvert_exporter": "python",
   "pygments_lexer": "ipython3",
   "version": "3.13.0"
  }
 },
 "nbformat": 4,
 "nbformat_minor": 5
}
