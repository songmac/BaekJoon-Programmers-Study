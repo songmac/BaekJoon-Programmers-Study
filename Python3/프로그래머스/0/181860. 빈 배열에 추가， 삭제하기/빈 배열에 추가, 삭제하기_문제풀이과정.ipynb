{
 "cells": [
  {
   "cell_type": "markdown",
   "id": "fc8d2c60",
   "metadata": {},
   "source": [
    "### 181860. 빈 배열에 추가, 삭제하기"
   ]
  },
  {
   "cell_type": "code",
   "execution_count": null,
   "id": "78b1c7a1",
   "metadata": {},
   "outputs": [
    {
     "name": "stdout",
     "output_type": "stream",
     "text": [
      "j =  0\n",
      "[3, 3]\n",
      "j =  1\n",
      "[3, 3, 3, 3]\n",
      "j =  2\n",
      "[3, 3, 3, 3, 3, 3]\n",
      "k =  0\n",
      "[3, 3, 3, 3, 3]\n",
      "k =  1\n",
      "[3, 3, 3, 3]\n",
      "j =  0\n",
      "[3, 3, 3, 3, 4, 4]\n",
      "j =  1\n",
      "[3, 3, 3, 3, 4, 4, 4, 4]\n",
      "j =  2\n",
      "[3, 3, 3, 3, 4, 4, 4, 4, 4, 4]\n",
      "j =  3\n",
      "[3, 3, 3, 3, 4, 4, 4, 4, 4, 4, 4, 4]\n",
      "k =  0\n",
      "[3, 3, 3, 3, 4, 4, 4, 4, 4, 4, 4]\n",
      "k =  0\n",
      "[3, 3, 3, 3, 4, 4, 4, 4, 4, 4]\n",
      "k =  1\n",
      "[3, 3, 3, 3, 4, 4, 4, 4, 4]\n",
      "k =  2\n",
      "[3, 3, 3, 3, 4, 4, 4, 4]\n"
     ]
    },
    {
     "data": {
      "text/plain": [
       "[3, 3, 3, 3, 4, 4, 4, 4]"
      ]
     },
     "execution_count": 15,
     "metadata": {},
     "output_type": "execute_result"
    }
   ],
   "source": [
    "# 나의 첫번째 풀이 : while 문 이용\n",
    "\n",
    "arr = [3, 2, 4, 1, 3]\n",
    "# flag = [true, false, true, false, false]  # 문제가 잘못 나와있는 것 같음\n",
    "flag = [True, False, True, False, False]\n",
    "\n",
    "def solution(arr, flag):\n",
    "    result = []\n",
    "    for i in range(len(arr)): # flag, arr에서 동일한 인덱스 번호를 순회해야 하므로 이중 for문을 사용하면 안됨 \n",
    "        if flag[i] == True: \n",
    "            j = 0\n",
    "            while j < arr[i]:\n",
    "                result.append(arr[i])  # extend 함수로 수정할 수 있음\n",
    "                result.append(arr[i])\n",
    "                print('j = ', j)\n",
    "                print(result)\n",
    "                j += 1\n",
    "\n",
    "        elif flag[i] == False:\n",
    "            k = 0\n",
    "            while k < arr[i]:\n",
    "                result.pop()\n",
    "                print('k = ', k)\n",
    "                print(result)\n",
    "                k += 1\n",
    "\n",
    "    return result\n",
    "\n",
    "solution(arr, flag)"
   ]
  },
  {
   "cell_type": "code",
   "execution_count": null,
   "id": "fe971858",
   "metadata": {},
   "outputs": [
    {
     "data": {
      "text/plain": [
       "[3, 3, 3, 3, 4, 4, 4, 4]"
      ]
     },
     "execution_count": 19,
     "metadata": {},
     "output_type": "execute_result"
    }
   ],
   "source": [
    "# 나의 두번째 풀이 : for 문 이용\n",
    "\n",
    "arr = [3, 2, 4, 1, 3]\n",
    "# flag = [true, false, true, false, false]\n",
    "flag = [True, False, True, False, False]\n",
    "\n",
    "def solution(arr, flag):\n",
    "    result = []\n",
    "    for i in range(len(arr)):\n",
    "        if int(flag[i]): \n",
    "            for _ in range(arr[i]):\n",
    "                result.extend([arr[i], arr[i]])\n",
    "        else:\n",
    "            for _ in range(arr[i]):\n",
    "                result.pop()\n",
    "    return result\n",
    "\n",
    "solution(arr, flag)"
   ]
  },
  {
   "cell_type": "code",
   "execution_count": 1,
   "id": "e147eee7",
   "metadata": {},
   "outputs": [
    {
     "data": {
      "text/plain": [
       "[3, 3, 3, 3, 4, 4, 4, 4]"
      ]
     },
     "execution_count": 1,
     "metadata": {},
     "output_type": "execute_result"
    }
   ],
   "source": [
    "# 다른 사람의 풀이 : zip 함수 이용\n",
    "\n",
    "arr = [3, 2, 4, 1, 3]\n",
    "# flag = [true, false, true, false, false]\n",
    "flag = [True, False, True, False, False]\n",
    "\n",
    "def solution(arr, flag):\n",
    "    result = []\n",
    "    for i, j in zip(arr, flag):  # i, j 에 각 리스트의 원소가 순서대로 들어감\n",
    "        if j:\n",
    "            result += [i] * i * 2\n",
    "        else:\n",
    "            result = result[:-i]\n",
    "    return result   \n",
    "\n",
    "solution(arr, flag)"
   ]
  },
  {
   "cell_type": "code",
   "execution_count": null,
   "id": "dd00712f",
   "metadata": {},
   "outputs": [],
   "source": []
  }
 ],
 "metadata": {
  "kernelspec": {
   "display_name": "anaconda_env",
   "language": "python",
   "name": "python3"
  },
  "language_info": {
   "codemirror_mode": {
    "name": "ipython",
    "version": 3
   },
   "file_extension": ".py",
   "mimetype": "text/x-python",
   "name": "python",
   "nbconvert_exporter": "python",
   "pygments_lexer": "ipython3",
   "version": "3.13.0"
  }
 },
 "nbformat": 4,
 "nbformat_minor": 5
}
