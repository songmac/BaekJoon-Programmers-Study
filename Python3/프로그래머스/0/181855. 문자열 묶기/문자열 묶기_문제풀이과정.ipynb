{
 "cells": [
  {
   "cell_type": "markdown",
   "id": "c7543f61",
   "metadata": {},
   "source": [
    "### 181855. 문자열 묶기"
   ]
  },
  {
   "cell_type": "code",
   "execution_count": null,
   "id": "8c16dc8a",
   "metadata": {},
   "outputs": [
    {
     "data": {
      "text/plain": [
       "2"
      ]
     },
     "execution_count": 5,
     "metadata": {},
     "output_type": "execute_result"
    }
   ],
   "source": [
    "# 기본 딕셔너리 함수 이용\n",
    "\n",
    "strArr = [\"a\",\"bc\",\"d\",\"efg\",\"hi\"]\n",
    "\n",
    "def solution(strArr):\n",
    "    arr_dict = {}\n",
    "    for arr in strArr:\n",
    "        arr_dict[len(arr)] = arr_dict.get(len(arr), 0) + 1  # 딕셔너리 키에 값이 없을 때 0으로 초기화 -> 초기화 안하면 KeyError : 1 발생\n",
    "    return max(arr_dict.values())\n",
    "\n",
    "solution(strArr)"
   ]
  },
  {
   "cell_type": "code",
   "execution_count": 15,
   "id": "22fe1f5d",
   "metadata": {},
   "outputs": [
    {
     "data": {
      "text/plain": [
       "2"
      ]
     },
     "execution_count": 15,
     "metadata": {},
     "output_type": "execute_result"
    }
   ],
   "source": [
    "# defaultdict 사용\n",
    "\n",
    "from collections import defaultdict\n",
    "\n",
    "strArr = [\"a\",\"bc\",\"d\",\"efg\",\"hi\"]\n",
    "\n",
    "def solution(strArr):\n",
    "    arr_dict = defaultdict(int)\n",
    "    for arr in strArr:\n",
    "        arr_dict[len(arr)] += 1\n",
    "        # print(arr_dict.values())\n",
    "    return max(arr_dict.values())\n",
    "\n",
    "solution(strArr)"
   ]
  },
  {
   "cell_type": "code",
   "execution_count": null,
   "id": "b52512ee",
   "metadata": {},
   "outputs": [],
   "source": []
  }
 ],
 "metadata": {
  "kernelspec": {
   "display_name": "anaconda_env",
   "language": "python",
   "name": "python3"
  },
  "language_info": {
   "codemirror_mode": {
    "name": "ipython",
    "version": 3
   },
   "file_extension": ".py",
   "mimetype": "text/x-python",
   "name": "python",
   "nbconvert_exporter": "python",
   "pygments_lexer": "ipython3",
   "version": "3.13.0"
  }
 },
 "nbformat": 4,
 "nbformat_minor": 5
}
