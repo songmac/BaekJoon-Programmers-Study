{
 "cells": [
  {
   "cell_type": "markdown",
   "id": "3fafe015",
   "metadata": {},
   "source": [
    "### 181879. 길이에 따른 연산"
   ]
  },
  {
   "cell_type": "code",
   "execution_count": 1,
   "id": "6a940b74",
   "metadata": {},
   "outputs": [
    {
     "data": {
      "text/plain": [
       "51"
      ]
     },
     "execution_count": 1,
     "metadata": {},
     "output_type": "execute_result"
    }
   ],
   "source": [
    "num_list = [3, 4, 5, 2, 5, 4, 6, 7, 3, 7, 2, 2, 1]\t\n",
    "\n",
    "def solution(num_list):\n",
    "    if len(num_list) <= 10:\n",
    "        answer = 1\n",
    "        for i in num_list:\n",
    "            answer *= i\n",
    "    else :\n",
    "        answer = 0\n",
    "        for i in num_list:\n",
    "            answer += i\n",
    "    return answer\n",
    "\n",
    "solution(num_list)"
   ]
  },
  {
   "cell_type": "code",
   "execution_count": 2,
   "id": "84d00357",
   "metadata": {},
   "outputs": [
    {
     "data": {
      "text/plain": [
       "51"
      ]
     },
     "execution_count": 2,
     "metadata": {},
     "output_type": "execute_result"
    }
   ],
   "source": [
    "# 다른 사람의 풀이\n",
    "\n",
    "num_list = [3, 4, 5, 2, 5, 4, 6, 7, 3, 7, 2, 2, 1]\t\n",
    "\n",
    "from math import prod\n",
    "\n",
    "def solution(num_list):\n",
    "    return sum(num_list) if len(num_list) >= 11 else prod(num_list)\n",
    "\n",
    "solution(num_list)\n"
   ]
  }
 ],
 "metadata": {
  "kernelspec": {
   "display_name": "anaconda_env",
   "language": "python",
   "name": "python3"
  },
  "language_info": {
   "codemirror_mode": {
    "name": "ipython",
    "version": 3
   },
   "file_extension": ".py",
   "mimetype": "text/x-python",
   "name": "python",
   "nbconvert_exporter": "python",
   "pygments_lexer": "ipython3",
   "version": "3.13.0"
  }
 },
 "nbformat": 4,
 "nbformat_minor": 5
}
