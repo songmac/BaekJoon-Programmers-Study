{
 "cells": [
  {
   "cell_type": "code",
   "execution_count": 1,
   "id": "9d62bbba",
   "metadata": {},
   "outputs": [
    {
     "name": "stdout",
     "output_type": "stream",
     "text": [
      "[3, 3, 2, 2, 1, 1]\n"
     ]
    }
   ],
   "source": [
    "# score 기능 확인\n",
    "score = [1, 2, 3, 1, 2, 3]\n",
    "score.sort(reverse=True) # 또는 score.sort\n",
    "             # 다시 sort 변수에 할당 할 수 없음\n",
    "print(score)"
   ]
  },
  {
   "cell_type": "code",
   "execution_count": 4,
   "id": "3f901029",
   "metadata": {},
   "outputs": [],
   "source": [
    "# 나의 풀이\n",
    "def solution(k, m, score):\n",
    "    # k : 사과의 최대 점수\n",
    "    # m : 한 상자에 들어가는 사과의 수\n",
    "    # score : 사과들의 점수\n",
    "    \n",
    "    score.sort(reverse=True)\n",
    "\n",
    "    a = []\n",
    "    box_sum = 0\n",
    "    for i in range(len(score) // m): # 상자에 담기\n",
    "        a.append(min(score[m*i:m*(i+1)]) * m)\n",
    "        box_sum += a[i]\n",
    "\n",
    "    return box_sum"
   ]
  },
  {
   "cell_type": "code",
   "execution_count": 5,
   "id": "707c150f",
   "metadata": {},
   "outputs": [
    {
     "data": {
      "text/plain": [
       "8"
      ]
     },
     "execution_count": 5,
     "metadata": {},
     "output_type": "execute_result"
    }
   ],
   "source": [
    "score = [1, 2, 3, 1, 2, 3]\n",
    "\n",
    "solution(3, 4, score)  "
   ]
  },
  {
   "cell_type": "code",
   "execution_count": 6,
   "id": "35414c28",
   "metadata": {},
   "outputs": [
    {
     "data": {
      "text/plain": [
       "33"
      ]
     },
     "execution_count": 6,
     "metadata": {},
     "output_type": "execute_result"
    }
   ],
   "source": [
    "score = [4, 1, 2, 2, 4, 4, 4, 4, 1, 2, 4, 2]\n",
    "\n",
    "solution(4, 3, score)  "
   ]
  },
  {
   "cell_type": "code",
   "execution_count": 7,
   "id": "7812421a",
   "metadata": {},
   "outputs": [],
   "source": [
    "# 다른 사람의 풀이\n",
    "def solution(k, m, score):\n",
    "    return sum(sorted(score)[len(score)%m::m])*m # 오름차순 정렬이면 각 배열의 m번째 순회 값이 각 배열에서 최대 이익(k)을 주는 최소값(p)이 됨"
   ]
  }
 ],
 "metadata": {
  "kernelspec": {
   "display_name": "anaconda_env",
   "language": "python",
   "name": "python3"
  },
  "language_info": {
   "codemirror_mode": {
    "name": "ipython",
    "version": 3
   },
   "file_extension": ".py",
   "mimetype": "text/x-python",
   "name": "python",
   "nbconvert_exporter": "python",
   "pygments_lexer": "ipython3",
   "version": "3.13.0"
  }
 },
 "nbformat": 4,
 "nbformat_minor": 5
}
